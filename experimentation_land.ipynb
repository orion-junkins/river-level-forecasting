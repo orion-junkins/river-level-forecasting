{
 "cells": [
  {
   "cell_type": "markdown",
   "metadata": {},
   "source": [
    "# Demo of Coordinate Generation\n",
    "This notebook demos prototype approach to generating coordinates.\n",
    "\n",
    "A KML package is used for file generation. Make sure you update your environment to the latest `environment.yml` file or run:\n",
    "```\n",
    "pip install simplekml\n",
    "```"
   ]
  },
  {
   "cell_type": "code",
   "execution_count": 5,
   "metadata": {},
   "outputs": [],
   "source": [
    "from forecasting.data_fetching_utilities.coordinate import Coordinate\n",
    "from forecasting.data_fetching_utilities.location_generator import LocationGenerator"
   ]
  },
  {
   "cell_type": "markdown",
   "metadata": {},
   "source": [
    "## Class usage\n",
    "Create two coordinates for the bottom left, and top right corners of the rectangle. Define a separation distance (in degrees). Creaate an instance of `GridImposer`"
   ]
  },
  {
   "cell_type": "code",
   "execution_count": 6,
   "metadata": {},
   "outputs": [],
   "source": [
    "# Thse coordinates generally represent a bounding box around the bend urban area.\n",
    "bottom_left = Coordinate(-121.36481534691531, 43.96623202919464)\n",
    "upper_right = Coordinate(-121.24877226101269, 44.12219786213129)\n",
    "\n",
    "# Desired distance between points\n",
    "# currently in degrees. Some approximation/conversion for miles would be nice.\n",
    "separation_distance = 0.025 \n",
    "\n",
    "imposer = LocationGenerator(bottom_left, upper_right, separation_distance)"
   ]
  },
  {
   "cell_type": "markdown",
   "metadata": {},
   "source": [
    "View the coordinates of the imposed grid"
   ]
  },
  {
   "cell_type": "code",
   "execution_count": 7,
   "metadata": {},
   "outputs": [
    {
     "data": {
      "text/plain": [
       "[(-121.356793803964, 43.96921494566296),\n",
       " (-121.33179380396399, 43.96921494566296),\n",
       " (-121.30679380396398, 43.96921494566296),\n",
       " (-121.28179380396398, 43.96921494566296),\n",
       " (-121.256793803964, 43.96921494566296),\n",
       " (-121.356793803964, 43.99421494566296),\n",
       " (-121.33179380396399, 43.99421494566296),\n",
       " (-121.30679380396398, 43.99421494566296),\n",
       " (-121.28179380396398, 43.99421494566296),\n",
       " (-121.256793803964, 43.99421494566296),\n",
       " (-121.356793803964, 44.01921494566296),\n",
       " (-121.33179380396399, 44.01921494566296),\n",
       " (-121.30679380396398, 44.01921494566296),\n",
       " (-121.28179380396398, 44.01921494566296),\n",
       " (-121.256793803964, 44.01921494566296),\n",
       " (-121.356793803964, 44.04421494566296),\n",
       " (-121.33179380396399, 44.04421494566296),\n",
       " (-121.30679380396398, 44.04421494566296),\n",
       " (-121.28179380396398, 44.04421494566296),\n",
       " (-121.256793803964, 44.04421494566296),\n",
       " (-121.356793803964, 44.06921494566296),\n",
       " (-121.33179380396399, 44.06921494566296),\n",
       " (-121.30679380396398, 44.06921494566296),\n",
       " (-121.28179380396398, 44.06921494566296),\n",
       " (-121.256793803964, 44.06921494566296),\n",
       " (-121.356793803964, 44.094214945662955),\n",
       " (-121.33179380396399, 44.094214945662955),\n",
       " (-121.30679380396398, 44.094214945662955),\n",
       " (-121.28179380396398, 44.094214945662955),\n",
       " (-121.256793803964, 44.094214945662955),\n",
       " (-121.356793803964, 44.119214945662954),\n",
       " (-121.33179380396399, 44.119214945662954),\n",
       " (-121.30679380396398, 44.119214945662954),\n",
       " (-121.28179380396398, 44.119214945662954),\n",
       " (-121.256793803964, 44.119214945662954),\n",
       " (-121.356793803964, 44.11921494566297),\n",
       " (-121.33179380396399, 44.11921494566297),\n",
       " (-121.30679380396398, 44.11921494566297),\n",
       " (-121.28179380396398, 44.11921494566297),\n",
       " (-121.256793803964, 44.11921494566297)]"
      ]
     },
     "execution_count": 7,
     "metadata": {},
     "output_type": "execute_result"
    }
   ],
   "source": [
    "imposer.coordinates"
   ]
  },
  {
   "cell_type": "markdown",
   "metadata": {},
   "source": [
    "Produce a KML file"
   ]
  },
  {
   "cell_type": "code",
   "execution_count": 8,
   "metadata": {},
   "outputs": [],
   "source": [
    "imposer.build_kml(filename=\"KML_demo_bend_city.KML\")"
   ]
  },
  {
   "cell_type": "markdown",
   "metadata": {},
   "source": [
    "This will generate a kml file with the specified name. Open the file in google earth, or load it at the following website: [Doogal KML Viewer](https://www.doogal.co.uk/KmlViewer)"
   ]
  },
  {
   "cell_type": "markdown",
   "metadata": {},
   "source": [
    "## River Demo\n",
    "The following is an example using a river catchment. Maxes and mins were approximated using [Streamer](https://txpub.usgs.gov/DSS/streamer/web/)."
   ]
  },
  {
   "cell_type": "code",
   "execution_count": 10,
   "metadata": {},
   "outputs": [
    {
     "data": {
      "text/plain": [
       "[(-123.7855, 41.9095),\n",
       " (-123.7355, 41.9095),\n",
       " (-123.6855, 41.9095),\n",
       " (-123.63550000000001, 41.9095),\n",
       " (-123.58550000000001, 41.9095),\n",
       " (-123.53550000000001, 41.9095),\n",
       " (-123.48550000000002, 41.9095),\n",
       " (-123.43550000000002, 41.9095),\n",
       " (-123.38550000000002, 41.9095),\n",
       " (-123.38550000000001, 41.9095),\n",
       " (-123.7855, 41.9595),\n",
       " (-123.7355, 41.9595),\n",
       " (-123.6855, 41.9595),\n",
       " (-123.63550000000001, 41.9595),\n",
       " (-123.58550000000001, 41.9595),\n",
       " (-123.53550000000001, 41.9595),\n",
       " (-123.48550000000002, 41.9595),\n",
       " (-123.43550000000002, 41.9595),\n",
       " (-123.38550000000002, 41.9595),\n",
       " (-123.38550000000001, 41.9595),\n",
       " (-123.7855, 42.009499999999996),\n",
       " (-123.7355, 42.009499999999996),\n",
       " (-123.6855, 42.009499999999996),\n",
       " (-123.63550000000001, 42.009499999999996),\n",
       " (-123.58550000000001, 42.009499999999996),\n",
       " (-123.53550000000001, 42.009499999999996),\n",
       " (-123.48550000000002, 42.009499999999996),\n",
       " (-123.43550000000002, 42.009499999999996),\n",
       " (-123.38550000000002, 42.009499999999996),\n",
       " (-123.38550000000001, 42.009499999999996),\n",
       " (-123.7855, 42.05949999999999),\n",
       " (-123.7355, 42.05949999999999),\n",
       " (-123.6855, 42.05949999999999),\n",
       " (-123.63550000000001, 42.05949999999999),\n",
       " (-123.58550000000001, 42.05949999999999),\n",
       " (-123.53550000000001, 42.05949999999999),\n",
       " (-123.48550000000002, 42.05949999999999),\n",
       " (-123.43550000000002, 42.05949999999999),\n",
       " (-123.38550000000002, 42.05949999999999),\n",
       " (-123.38550000000001, 42.05949999999999),\n",
       " (-123.7855, 42.10949999999999),\n",
       " (-123.7355, 42.10949999999999),\n",
       " (-123.6855, 42.10949999999999),\n",
       " (-123.63550000000001, 42.10949999999999),\n",
       " (-123.58550000000001, 42.10949999999999),\n",
       " (-123.53550000000001, 42.10949999999999),\n",
       " (-123.48550000000002, 42.10949999999999),\n",
       " (-123.43550000000002, 42.10949999999999),\n",
       " (-123.38550000000002, 42.10949999999999),\n",
       " (-123.38550000000001, 42.10949999999999),\n",
       " (-123.7855, 42.15949999999999),\n",
       " (-123.7355, 42.15949999999999),\n",
       " (-123.6855, 42.15949999999999),\n",
       " (-123.63550000000001, 42.15949999999999),\n",
       " (-123.58550000000001, 42.15949999999999),\n",
       " (-123.53550000000001, 42.15949999999999),\n",
       " (-123.48550000000002, 42.15949999999999),\n",
       " (-123.43550000000002, 42.15949999999999),\n",
       " (-123.38550000000002, 42.15949999999999),\n",
       " (-123.38550000000001, 42.15949999999999),\n",
       " (-123.7855, 42.209499999999984),\n",
       " (-123.7355, 42.209499999999984),\n",
       " (-123.6855, 42.209499999999984),\n",
       " (-123.63550000000001, 42.209499999999984),\n",
       " (-123.58550000000001, 42.209499999999984),\n",
       " (-123.53550000000001, 42.209499999999984),\n",
       " (-123.48550000000002, 42.209499999999984),\n",
       " (-123.43550000000002, 42.209499999999984),\n",
       " (-123.38550000000002, 42.209499999999984),\n",
       " (-123.38550000000001, 42.209499999999984),\n",
       " (-123.7855, 42.2095),\n",
       " (-123.7355, 42.2095),\n",
       " (-123.6855, 42.2095),\n",
       " (-123.63550000000001, 42.2095),\n",
       " (-123.58550000000001, 42.2095),\n",
       " (-123.53550000000001, 42.2095),\n",
       " (-123.48550000000002, 42.2095),\n",
       " (-123.43550000000002, 42.2095),\n",
       " (-123.38550000000002, 42.2095),\n",
       " (-123.38550000000001, 42.2095)]"
      ]
     },
     "execution_count": 10,
     "metadata": {},
     "output_type": "execute_result"
    }
   ],
   "source": [
    "# Thse coordinates generally represent a bounding box around the Illinois catchment above the gauge near Kerby, OR.\n",
    "bottom_left = Coordinate(-123.822, 41.883)\n",
    "upper_right = Coordinate(-123.349, 42.236)\n",
    "\n",
    "# Desired distance between points\n",
    "# currently in degrees. Some approximation/conversion for miles would be nice.\n",
    "separation_distance = 0.05 \n",
    "\n",
    "# Generate locations\n",
    "imposer = LocationGenerator(bottom_left, upper_right, separation_distance)\n",
    "imposer.build_kml(filename=\"KML_demo_illinois_kerby.KML\")\n",
    "imposer.coordinates"
   ]
  },
  {
   "cell_type": "code",
   "execution_count": null,
   "metadata": {},
   "outputs": [],
   "source": []
  }
 ],
 "metadata": {
  "kernelspec": {
   "display_name": "Python 3.7.9 ('rcast')",
   "language": "python",
   "name": "python3"
  },
  "language_info": {
   "codemirror_mode": {
    "name": "ipython",
    "version": 3
   },
   "file_extension": ".py",
   "mimetype": "text/x-python",
   "name": "python",
   "nbconvert_exporter": "python",
   "pygments_lexer": "ipython3",
   "version": "3.7.9"
  },
  "orig_nbformat": 4,
  "vscode": {
   "interpreter": {
    "hash": "0b6127f1bbf29db2bc778de85111160064f70bca0ed497e9c377a7d56a79e198"
   }
  }
 },
 "nbformat": 4,
 "nbformat_minor": 2
}
